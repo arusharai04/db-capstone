{
 "cells": [
  {
   "cell_type": "code",
   "execution_count": 1,
   "id": "264038a7",
   "metadata": {},
   "outputs": [
    {
     "name": "stdout",
     "output_type": "stream",
     "text": [
      "Requirement already satisfied: mysql-connector-python in c:\\users\\raiar\\appdata\\local\\programs\\python\\python311\\lib\\site-packages (8.0.32)\n",
      "Requirement already satisfied: protobuf<=3.20.3,>=3.11.0 in c:\\users\\raiar\\appdata\\local\\programs\\python\\python311\\lib\\site-packages (from mysql-connector-python) (3.20.3)\n"
     ]
    }
   ],
   "source": [
    "!pip install mysql-connector-python"
   ]
  },
  {
   "cell_type": "code",
   "execution_count": 2,
   "id": "fd3c62a5",
   "metadata": {},
   "outputs": [],
   "source": [
    "import mysql.connector as connector"
   ]
  },
  {
   "cell_type": "code",
   "execution_count": 5,
   "id": "5a9a7883",
   "metadata": {},
   "outputs": [],
   "source": [
    "connection = connector.connect(user=\"little_lemon_db\", password=\"Loloruru,4\")"
   ]
  },
  {
   "cell_type": "code",
   "execution_count": 7,
   "id": "058471a6",
   "metadata": {},
   "outputs": [],
   "source": [
    "dbconfig = {\"user\":\"little_lemon_db\", \"password\":\"Loloruru,4\",\"db\":\"littlelemondb\"}"
   ]
  },
  {
   "cell_type": "code",
   "execution_count": 8,
   "id": "e4da78f2",
   "metadata": {},
   "outputs": [],
   "source": [
    "connection = connector.connect(**dbconfig)"
   ]
  },
  {
   "cell_type": "code",
   "execution_count": 9,
   "id": "1acf41b5",
   "metadata": {},
   "outputs": [],
   "source": [
    "cursor = connection.cursor()"
   ]
  },
  {
   "cell_type": "code",
   "execution_count": 10,
   "id": "53ffc9c6",
   "metadata": {},
   "outputs": [],
   "source": [
    "show_tables_query = \"SHOW tables\" \n",
    "cursor.execute(show_tables_query)"
   ]
  },
  {
   "cell_type": "code",
   "execution_count": 11,
   "id": "d50100da",
   "metadata": {},
   "outputs": [
    {
     "name": "stdout",
     "output_type": "stream",
     "text": [
      "bookings\n",
      "contactdetails\n",
      "customers\n",
      "delivery\n",
      "menucontents\n",
      "menuitems\n",
      "menus\n",
      "orders\n",
      "ordersview\n",
      "roles\n",
      "staff\n"
     ]
    }
   ],
   "source": [
    "results=cursor.fetchall()\n",
    "for result in results:\n",
    "    print(result[0])"
   ]
  },
  {
   "cell_type": "code",
   "execution_count": 12,
   "id": "b63a9a5c",
   "metadata": {},
   "outputs": [],
   "source": [
    "customer_join_query = \"\"\"\n",
    "        SELECT\n",
    "            c.CustomerName AS FullName,\n",
    "            cd.Email AS Email,\n",
    "            cd.PhoneNumber AS PhoneNumber,\n",
    "            cd.Address AS Address,\n",
    "            cd.Country AS Country,\n",
    "            cd.City AS City,\n",
    "            o.TotalCost AS Cost\n",
    "        FROM customers c\n",
    "        JOIN contactdetails cd\n",
    "            USING (CustomerID)\n",
    "        JOIN orders o\n",
    "            USING (CustomerID)\n",
    "        WHERE o.TotalCost > 60\n",
    "        ORDER BY o.TotalCost DESC;\"\"\""
   ]
  },
  {
   "cell_type": "code",
   "execution_count": 13,
   "id": "f19703b7",
   "metadata": {},
   "outputs": [],
   "source": [
    "cursor.execute(customer_join_query)"
   ]
  },
  {
   "cell_type": "code",
   "execution_count": 14,
   "id": "c19ba63a",
   "metadata": {},
   "outputs": [],
   "source": [
    "customers = cursor.fetchall()"
   ]
  },
  {
   "cell_type": "code",
   "execution_count": 15,
   "id": "456afd15",
   "metadata": {},
   "outputs": [
    {
     "name": "stdout",
     "output_type": "stream",
     "text": [
      "There are 6 customers with more than $60 of spending...\n",
      "Printing the top 10 spenders...\n",
      "==================================================\n",
      "Full Name: \t Jeremy Crawford\n",
      "Email: \t\t jeremycrawford@gmail.com\n",
      "Phone Number: \t 981034\n",
      "Address: \t 11, Rose Avenue, Chicago, IL\n",
      "Country: \t USA\n",
      "City: \t\t Chicago\n",
      "Has spent: \t 6000.0\n",
      "==================================================\n",
      "Full Name: \t Verity Fisher\n",
      "Email: \t\t verityfish45@yahoo.com\n",
      "Phone Number: \t 879876\n",
      "Address: \t 14, Prince Road, Chicago, IL\n",
      "Country: \t USA\n",
      "City: \t\t Chicago\n",
      "Has spent: \t 5000.0\n",
      "==================================================\n",
      "Full Name: \t Alicia Morgan\n",
      "Email: \t\t aliciamorg88@gmail.com\n",
      "Phone Number: \t 873213\n",
      "Address: \t 78, Tower, Chicago, IL\n",
      "Country: \t USA\n",
      "City: \t\t Chicago\n",
      "Has spent: \t 2000.0\n",
      "==================================================\n",
      "Full Name: \t Theo Faber\n",
      "Email: \t\t fabertheo@yahoo.com\n",
      "Phone Number: \t 876543\n",
      "Address: \t 9, Williams Road, Chicago, IL\n",
      "Country: \t USA\n",
      "City: \t\t Chicago\n",
      "Has spent: \t 1500.0\n",
      "==================================================\n",
      "Full Name: \t Gabriel Berenson\n",
      "Email: \t\t gabrielb@gmail.com\n",
      "Phone Number: \t 981209\n",
      "Address: \t 127, Louiseville, Chicago, IL\n",
      "Country: \t USA\n",
      "City: \t\t Chicago\n",
      "Has spent: \t 1000.0\n",
      "==================================================\n",
      "Full Name: \t Ashleigh Lowen\n",
      "Email: \t\t ashleighlowen12@gmail.com\n",
      "Phone Number: \t 981734\n",
      "Address: \t 33, Greenvlle, Chicago, IL\n",
      "Country: \t USA\n",
      "City: \t\t Chicago\n",
      "Has spent: \t 500.0\n"
     ]
    }
   ],
   "source": [
    "print(f'There are {len(customers)} customers with more than $60 of spending...')\n",
    "print('Printing the top 10 spenders...')\n",
    "\n",
    "for customer in customers[:10]:\n",
    "    print('=' * 50)\n",
    "    print(f'Full Name: \\t {customer[0]}')\n",
    "    print(f'Email: \\t\\t {customer[1]}')\n",
    "    print(f'Phone Number: \\t {customer[2]}')\n",
    "    print(f'Address: \\t {customer[3]}')\n",
    "    print(f'Country: \\t {customer[4]}')\n",
    "    print(f'City: \\t\\t {customer[5]}')\n",
    "    print(f'Has spent: \\t {float(customer[6])}')"
   ]
  },
  {
   "cell_type": "code",
   "execution_count": null,
   "id": "fa927a0f",
   "metadata": {},
   "outputs": [],
   "source": []
  }
 ],
 "metadata": {
  "kernelspec": {
   "display_name": "Python 3 (ipykernel)",
   "language": "python",
   "name": "python3"
  },
  "language_info": {
   "codemirror_mode": {
    "name": "ipython",
    "version": 3
   },
   "file_extension": ".py",
   "mimetype": "text/x-python",
   "name": "python",
   "nbconvert_exporter": "python",
   "pygments_lexer": "ipython3",
   "version": "3.11.1"
  }
 },
 "nbformat": 4,
 "nbformat_minor": 5
}
